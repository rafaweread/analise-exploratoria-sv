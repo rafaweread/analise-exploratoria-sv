{
 "cells": [
  {
   "cell_type": "code",
   "execution_count": 52,
   "metadata": {},
   "outputs": [],
   "source": [
    "import pandas as pd\n",
    "import numpy as np\n",
    "import sweetviz as sv\n",
    "import matplotlib.pyplot as plt"
   ]
  },
  {
   "cell_type": "code",
   "execution_count": 53,
   "metadata": {},
   "outputs": [],
   "source": [
    "#realizando leitura de arquivo em formato Excel\n",
    "estban = pd.read_excel(r'202007_ESTBAN.xlsx', engine='openpyxl')\n",
    "df1 = pd.DataFrame(estban)"
   ]
  },
  {
   "cell_type": "code",
   "execution_count": null,
   "metadata": {},
   "outputs": [],
   "source": [
    "df1.info(65)"
   ]
  },
  {
   "cell_type": "code",
   "execution_count": 55,
   "metadata": {},
   "outputs": [],
   "source": [
    "#selecionando as colunas desejadas utilizando indice\n",
    "colunas_por_indice = df1.iloc[:,[0,1,2,3,5,21,42,45,65]]"
   ]
  },
  {
   "cell_type": "code",
   "execution_count": null,
   "metadata": {},
   "outputs": [],
   "source": [
    "colunas_por_indice.head()"
   ]
  },
  {
   "cell_type": "code",
   "execution_count": 76,
   "metadata": {},
   "outputs": [],
   "source": [
    "#filtrando estado \n",
    "dfmt = colunas_por_indice[colunas_por_indice['UF']=='MT']\n",
    "\n",
    "municipio_filtrado = ['CANARANA','ARAPUTANGA']\n",
    "dfmt = colunas_por_indice[colunas_por_indice['MUNICIPIO'].isin(municipio_filtrado)]"
   ]
  },
  {
   "cell_type": "code",
   "execution_count": null,
   "metadata": {},
   "outputs": [],
   "source": [
    "my_report = sv.analyze(dfmt)\n",
    "my_report.show_html()"
   ]
  },
  {
   "cell_type": "code",
   "execution_count": null,
   "metadata": {},
   "outputs": [],
   "source": [
    "fig, ax = plt.subplots()\n",
    "\n",
    "municipio = dfmt['MUNICIPIO']\n",
    "credito = dfmt['VERBETE_160_OPERACOES_DE_CREDITO']\n",
    "\n",
    "\n",
    "ax.bar(municipio, credito)\n",
    "\n",
    "# Adicionando rótulos nos dados\n",
    "for i, valor in enumerate(credito):\n",
    "    plt.text(i, valor + 200000, str(credito), ha='center')  # Coloca o rótulo um pouco acima da barra\n",
    "\n",
    "ax.set_ylabel('Valor')\n",
    "ax.set_title('Crédito Por Municipio')\n",
    "ax.legend(title='Municipios')\n",
    "\n",
    "plt.show()"
   ]
  }
 ],
 "metadata": {
  "kernelspec": {
   "display_name": "base",
   "language": "python",
   "name": "python3"
  },
  "language_info": {
   "codemirror_mode": {
    "name": "ipython",
    "version": 3
   },
   "file_extension": ".py",
   "mimetype": "text/x-python",
   "name": "python",
   "nbconvert_exporter": "python",
   "pygments_lexer": "ipython3",
   "version": "3.11.7"
  }
 },
 "nbformat": 4,
 "nbformat_minor": 2
}
